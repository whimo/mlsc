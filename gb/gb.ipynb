{
 "cells": [
  {
   "cell_type": "code",
   "execution_count": 14,
   "metadata": {
    "collapsed": true
   },
   "outputs": [],
   "source": [
    "import numpy as np\n",
    "import pandas"
   ]
  },
  {
   "cell_type": "code",
   "execution_count": 15,
   "metadata": {},
   "outputs": [
    {
     "data": {
      "text/html": [
       "<div>\n",
       "<style>\n",
       "    .dataframe thead tr:only-child th {\n",
       "        text-align: right;\n",
       "    }\n",
       "\n",
       "    .dataframe thead th {\n",
       "        text-align: left;\n",
       "    }\n",
       "\n",
       "    .dataframe tbody tr th {\n",
       "        vertical-align: top;\n",
       "    }\n",
       "</style>\n",
       "<table border=\"1\" class=\"dataframe\">\n",
       "  <thead>\n",
       "    <tr style=\"text-align: right;\">\n",
       "      <th></th>\n",
       "      <th>Activity</th>\n",
       "      <th>D1</th>\n",
       "      <th>D2</th>\n",
       "      <th>D3</th>\n",
       "      <th>D4</th>\n",
       "      <th>D5</th>\n",
       "      <th>D6</th>\n",
       "      <th>D7</th>\n",
       "      <th>D8</th>\n",
       "      <th>D9</th>\n",
       "      <th>...</th>\n",
       "      <th>D1767</th>\n",
       "      <th>D1768</th>\n",
       "      <th>D1769</th>\n",
       "      <th>D1770</th>\n",
       "      <th>D1771</th>\n",
       "      <th>D1772</th>\n",
       "      <th>D1773</th>\n",
       "      <th>D1774</th>\n",
       "      <th>D1775</th>\n",
       "      <th>D1776</th>\n",
       "    </tr>\n",
       "  </thead>\n",
       "  <tbody>\n",
       "    <tr>\n",
       "      <th>0</th>\n",
       "      <td>1</td>\n",
       "      <td>0.000000</td>\n",
       "      <td>0.497009</td>\n",
       "      <td>0.10</td>\n",
       "      <td>0.0</td>\n",
       "      <td>0.132956</td>\n",
       "      <td>0.678031</td>\n",
       "      <td>0.273166</td>\n",
       "      <td>0.585445</td>\n",
       "      <td>0.743663</td>\n",
       "      <td>...</td>\n",
       "      <td>0</td>\n",
       "      <td>0</td>\n",
       "      <td>0</td>\n",
       "      <td>0</td>\n",
       "      <td>0</td>\n",
       "      <td>0</td>\n",
       "      <td>0</td>\n",
       "      <td>0</td>\n",
       "      <td>0</td>\n",
       "      <td>0</td>\n",
       "    </tr>\n",
       "    <tr>\n",
       "      <th>1</th>\n",
       "      <td>1</td>\n",
       "      <td>0.366667</td>\n",
       "      <td>0.606291</td>\n",
       "      <td>0.05</td>\n",
       "      <td>0.0</td>\n",
       "      <td>0.111209</td>\n",
       "      <td>0.803455</td>\n",
       "      <td>0.106105</td>\n",
       "      <td>0.411754</td>\n",
       "      <td>0.836582</td>\n",
       "      <td>...</td>\n",
       "      <td>1</td>\n",
       "      <td>1</td>\n",
       "      <td>1</td>\n",
       "      <td>1</td>\n",
       "      <td>0</td>\n",
       "      <td>1</td>\n",
       "      <td>0</td>\n",
       "      <td>0</td>\n",
       "      <td>1</td>\n",
       "      <td>0</td>\n",
       "    </tr>\n",
       "    <tr>\n",
       "      <th>2</th>\n",
       "      <td>1</td>\n",
       "      <td>0.033300</td>\n",
       "      <td>0.480124</td>\n",
       "      <td>0.00</td>\n",
       "      <td>0.0</td>\n",
       "      <td>0.209791</td>\n",
       "      <td>0.610350</td>\n",
       "      <td>0.356453</td>\n",
       "      <td>0.517720</td>\n",
       "      <td>0.679051</td>\n",
       "      <td>...</td>\n",
       "      <td>0</td>\n",
       "      <td>0</td>\n",
       "      <td>0</td>\n",
       "      <td>0</td>\n",
       "      <td>0</td>\n",
       "      <td>0</td>\n",
       "      <td>0</td>\n",
       "      <td>0</td>\n",
       "      <td>0</td>\n",
       "      <td>0</td>\n",
       "    </tr>\n",
       "    <tr>\n",
       "      <th>3</th>\n",
       "      <td>1</td>\n",
       "      <td>0.000000</td>\n",
       "      <td>0.538825</td>\n",
       "      <td>0.00</td>\n",
       "      <td>0.5</td>\n",
       "      <td>0.196344</td>\n",
       "      <td>0.724230</td>\n",
       "      <td>0.235606</td>\n",
       "      <td>0.288764</td>\n",
       "      <td>0.805110</td>\n",
       "      <td>...</td>\n",
       "      <td>0</td>\n",
       "      <td>0</td>\n",
       "      <td>0</td>\n",
       "      <td>0</td>\n",
       "      <td>0</td>\n",
       "      <td>0</td>\n",
       "      <td>0</td>\n",
       "      <td>0</td>\n",
       "      <td>0</td>\n",
       "      <td>0</td>\n",
       "    </tr>\n",
       "    <tr>\n",
       "      <th>4</th>\n",
       "      <td>0</td>\n",
       "      <td>0.100000</td>\n",
       "      <td>0.517794</td>\n",
       "      <td>0.00</td>\n",
       "      <td>0.0</td>\n",
       "      <td>0.494734</td>\n",
       "      <td>0.781422</td>\n",
       "      <td>0.154361</td>\n",
       "      <td>0.303809</td>\n",
       "      <td>0.812646</td>\n",
       "      <td>...</td>\n",
       "      <td>0</td>\n",
       "      <td>0</td>\n",
       "      <td>0</td>\n",
       "      <td>0</td>\n",
       "      <td>0</td>\n",
       "      <td>0</td>\n",
       "      <td>0</td>\n",
       "      <td>0</td>\n",
       "      <td>0</td>\n",
       "      <td>0</td>\n",
       "    </tr>\n",
       "  </tbody>\n",
       "</table>\n",
       "<p>5 rows × 1777 columns</p>\n",
       "</div>"
      ],
      "text/plain": [
       "   Activity        D1        D2    D3   D4        D5        D6        D7  \\\n",
       "0         1  0.000000  0.497009  0.10  0.0  0.132956  0.678031  0.273166   \n",
       "1         1  0.366667  0.606291  0.05  0.0  0.111209  0.803455  0.106105   \n",
       "2         1  0.033300  0.480124  0.00  0.0  0.209791  0.610350  0.356453   \n",
       "3         1  0.000000  0.538825  0.00  0.5  0.196344  0.724230  0.235606   \n",
       "4         0  0.100000  0.517794  0.00  0.0  0.494734  0.781422  0.154361   \n",
       "\n",
       "         D8        D9  ...    D1767  D1768  D1769  D1770  D1771  D1772  D1773  \\\n",
       "0  0.585445  0.743663  ...        0      0      0      0      0      0      0   \n",
       "1  0.411754  0.836582  ...        1      1      1      1      0      1      0   \n",
       "2  0.517720  0.679051  ...        0      0      0      0      0      0      0   \n",
       "3  0.288764  0.805110  ...        0      0      0      0      0      0      0   \n",
       "4  0.303809  0.812646  ...        0      0      0      0      0      0      0   \n",
       "\n",
       "   D1774  D1775  D1776  \n",
       "0      0      0      0  \n",
       "1      0      1      0  \n",
       "2      0      0      0  \n",
       "3      0      0      0  \n",
       "4      0      0      0  \n",
       "\n",
       "[5 rows x 1777 columns]"
      ]
     },
     "execution_count": 15,
     "metadata": {},
     "output_type": "execute_result"
    }
   ],
   "source": [
    "data = pandas.read_csv('gbm-data.csv')\n",
    "data.head()"
   ]
  },
  {
   "cell_type": "code",
   "execution_count": 16,
   "metadata": {
    "collapsed": true
   },
   "outputs": [],
   "source": [
    "X = np.delete(data.as_matrix(), 0, axis=1)\n",
    "y = data['Activity']"
   ]
  },
  {
   "cell_type": "code",
   "execution_count": 17,
   "metadata": {
    "collapsed": true
   },
   "outputs": [],
   "source": [
    "from sklearn.model_selection import train_test_split\n",
    "X_train, X_test, y_train, y_test = train_test_split(X, y, test_size=0.8, random_state=241)"
   ]
  },
  {
   "cell_type": "code",
   "execution_count": 18,
   "metadata": {
    "collapsed": true
   },
   "outputs": [],
   "source": [
    "from sklearn.ensemble import GradientBoostingClassifier\n",
    "from sklearn.metrics import log_loss\n",
    "import matplotlib.pyplot as plt\n",
    "%matplotlib inline"
   ]
  },
  {
   "cell_type": "code",
   "execution_count": 19,
   "metadata": {},
   "outputs": [
    {
     "name": "stdout",
     "output_type": "stream",
     "text": [
      "      Iter       Train Loss   Remaining Time \n",
      "         1           1.0190           17.08s\n",
      "         2           0.9192           16.85s\n",
      "         3           0.8272           17.23s\n",
      "         4           0.7834           16.82s\n",
      "         5           0.7109           16.60s\n",
      "         6           0.6368           16.80s\n",
      "         7           0.5797           16.82s\n",
      "         8           0.5610           16.39s\n",
      "         9           0.5185           16.24s\n",
      "        10           0.4984           16.12s\n",
      "        20           0.1999           15.95s\n",
      "        30           0.1313           14.51s\n",
      "        40           0.0790           13.66s\n",
      "        50           0.0511           12.99s\n",
      "        60           0.0352           12.29s\n",
      "        70           0.0245           11.52s\n",
      "        80           0.0162           10.87s\n",
      "        90           0.0114           10.21s\n",
      "       100           0.0077            9.51s\n",
      "       200           0.0004            2.81s\n",
      "1\n",
      "0.582294259428 0\n"
     ]
    },
    {
     "data": {
      "image/png": "[encoded data removed]",
      "text/plain": [
       "<matplotlib.figure.Figure at 0x7f95e228d590>"
      ]
     },
     "metadata": {},
     "output_type": "display_data"
    },
    {
     "name": "stdout",
     "output_type": "stream",
     "text": [
      "      Iter       Train Loss   Remaining Time \n",
      "         1           1.1255           21.44s\n",
      "         2           1.0035           22.71s\n",
      "         3           0.9386           22.05s\n",
      "         4           0.8844           21.15s\n",
      "         5           0.8381           20.20s\n",
      "         6           0.7995           19.48s\n",
      "         7           0.7559           19.61s\n",
      "         8           0.7205           19.55s\n",
      "         9           0.6958           19.35s\n",
      "        10           0.6725           18.87s\n",
      "        20           0.4672           16.81s\n",
      "        30           0.3179           15.87s\n",
      "        40           0.2274           14.83s\n",
      "        50           0.1774           13.87s\n",
      "        60           0.1394           13.03s\n",
      "        70           0.1050           12.29s\n",
      "        80           0.0805           11.51s\n",
      "        90           0.0650           10.72s\n",
      "       100           0.0511           10.05s\n",
      "       200           0.0058            3.26s\n",
      "0.5\n",
      "0.558202552316 6\n"
     ]
    },
    {
     "data": {
      "image/png": "[encoded data removed]",
      "text/plain": [
       "<matplotlib.figure.Figure at 0x7f95e2294e50>"
      ]
     },
     "metadata": {},
     "output_type": "display_data"
    },
    {
     "name": "stdout",
     "output_type": "stream",
     "text": [
      "      Iter       Train Loss   Remaining Time \n",
      "         1           1.2095           19.47s\n",
      "         2           1.1006           18.22s\n",
      "         3           1.0240           17.85s\n",
      "         4           0.9729           17.78s\n",
      "         5           0.9387           17.55s\n",
      "         6           0.8948           17.65s\n",
      "         7           0.8621           17.51s\n",
      "         8           0.8360           17.21s\n",
      "         9           0.8171           16.92s\n",
      "        10           0.7883           16.87s\n",
      "        20           0.6164           16.35s\n",
      "        30           0.4933           15.60s\n",
      "        40           0.4248           14.93s\n",
      "        50           0.3345           14.24s\n",
      "        60           0.2760           13.23s\n",
      "        70           0.2263           12.44s\n",
      "        80           0.1971           11.79s\n",
      "        90           0.1693           11.06s\n",
      "       100           0.1388           10.33s\n",
      "       200           0.0294            3.36s\n",
      "0.3\n",
      "0.542314111002 10\n"
     ]
    },
    {
     "data": {
      "image/png": "[encoded data removed]",
      "text/plain": [
       "<matplotlib.figure.Figure at 0x7f95de715390>"
      ]
     },
     "metadata": {},
     "output_type": "display_data"
    },
    {
     "name": "stdout",
     "output_type": "stream",
     "text": [
      "      Iter       Train Loss   Remaining Time \n",
      "         1           1.2613           19.45s\n",
      "         2           1.1715           18.84s\n",
      "         3           1.1009           18.47s\n",
      "         4           1.0529           18.04s\n",
      "         5           1.0130           17.68s\n",
      "         6           0.9740           17.40s\n",
      "         7           0.9475           17.36s\n",
      "         8           0.9197           17.38s\n",
      "         9           0.8979           17.05s\n",
      "        10           0.8730           17.05s\n",
      "        20           0.7207           15.48s\n",
      "        30           0.6055           15.12s\n",
      "        40           0.5244           14.08s\n",
      "        50           0.4501           13.33s\n",
      "        60           0.3908           12.75s\n",
      "        70           0.3372           12.13s\n",
      "        80           0.3009           11.53s\n",
      "        90           0.2603           10.88s\n",
      "       100           0.2327           10.11s\n",
      "       200           0.0835            3.26s\n",
      "0.2\n",
      "0.531450796319 36\n"
     ]
    },
    {
     "data": {
      "image/png": "[encoded data removed]",
      "text/plain": [
       "<matplotlib.figure.Figure at 0x7f95e4007a10>"
      ]
     },
     "metadata": {},
     "output_type": "display_data"
    },
    {
     "name": "stdout",
     "output_type": "stream",
     "text": [
      "      Iter       Train Loss   Remaining Time \n",
      "         1           1.3199           22.89s\n",
      "         2           1.2645           20.91s\n",
      "         3           1.2170           20.45s\n",
      "         4           1.1775           20.04s\n",
      "         5           1.1404           19.68s\n",
      "         6           1.1106           19.55s\n",
      "         7           1.0844           19.29s\n",
      "         8           1.0617           19.09s\n",
      "         9           1.0411           18.79s\n",
      "        10           1.0223           18.50s\n",
      "        20           0.8864           16.69s\n",
      "        30           0.7844           15.38s\n",
      "        40           0.7176           14.59s\n",
      "        50           0.6590           13.73s\n",
      "        60           0.6120           12.90s\n",
      "        70           0.5599           12.22s\n",
      "        80           0.5242           11.45s\n",
      "        90           0.4829           10.87s\n",
      "       100           0.4473           10.21s\n",
      "       200           0.2379            3.33s\n",
      "0.1\n",
      "0.526920187228 51\n"
     ]
    },
    {
     "data": {
      "image/png": "[encoded data removed]",
      "text/plain": [
       "<matplotlib.figure.Figure at 0x7f95e410a610>"
      ]
     },
     "metadata": {},
     "output_type": "display_data"
    }
   ],
   "source": [
    "for lr in [1, 0.5, 0.3, 0.2, 0.1]:\n",
    "    clf = GradientBoostingClassifier(n_estimators=250, learning_rate=lr,\n",
    "                                     verbose=True, random_state=241)\n",
    "    clf.fit(X_train, y_train)\n",
    "\n",
    "    test_loss =  np.empty(len(clf.estimators_))\n",
    "    train_loss = np.empty(len(clf.estimators_))\n",
    "\n",
    "    for i, pred in enumerate(clf.staged_decision_function(X_test)):\n",
    "        test_loss[i] = log_loss(y_test, 1 / (1 + np.exp(-pred)))\n",
    "\n",
    "    for i, pred in enumerate(clf.staged_decision_function(X_train)):\n",
    "        train_loss[i] = log_loss(y_train, 1 / (1 + np.exp(-pred)))\n",
    "        \n",
    "    print lr\n",
    "    print min(test_loss), test_loss.argmin()\n",
    "\n",
    "    plt.figure()\n",
    "    plt.plot(test_loss, 'r', linewidth=2)\n",
    "    plt.plot(train_loss, 'g', linewidth=2)\n",
    "    plt.legend(['test', 'train'])\n",
    "    \n",
    "    plt.show()"
   ]
  },
  {
   "cell_type": "code",
   "execution_count": 20,
   "metadata": {
    "collapsed": true
   },
   "outputs": [],
   "source": [
    "from sklearn.ensemble import RandomForestClassifier\n",
    "clf = RandomForestClassifier(n_estimators=36, random_state=241)"
   ]
  },
  {
   "cell_type": "code",
   "execution_count": 21,
   "metadata": {},
   "outputs": [
    {
     "name": "stdout",
     "output_type": "stream",
     "text": [
      "0.54138128618\n"
     ]
    }
   ],
   "source": [
    "clf.fit(X_train, y_train)\n",
    "pred = clf.predict_proba(X_test)\n",
    "\n",
    "print log_loss(y_test, pred)"
   ]
  }
 ],
 "metadata": {
  "kernelspec": {
   "display_name": "Python 2",
   "language": "python",
   "name": "python2"
  },
  "language_info": {
   "codemirror_mode": {
    "name": "ipython",
    "version": 2
   },
   "file_extension": ".py",
   "mimetype": "text/x-python",
   "name": "python",
   "nbconvert_exporter": "python",
   "pygments_lexer": "ipython2",
   "version": "2.7.12"
  }
 },
 "nbformat": 4,
 "nbformat_minor": 2
}
